{
  "nbformat": 4,
  "nbformat_minor": 0,
  "metadata": {
    "colab": {
      "provenance": []
    },
    "kernelspec": {
      "name": "python3",
      "display_name": "Python 3"
    },
    "language_info": {
      "name": "python"
    }
  },
  "cells": [
    {
      "cell_type": "code",
      "source": [],
      "metadata": {
        "id": "8BxiSE6mCzMR"
      },
      "execution_count": null,
      "outputs": []
    },
    {
      "cell_type": "markdown",
      "source": [],
      "metadata": {
        "id": "kFJV0cvRC7n3"
      }
    },
    {
      "cell_type": "markdown",
      "source": [
        "program to write \"hello , world! \""
      ],
      "metadata": {
        "id": "9nsB51dqC9Bw"
      }
    },
    {
      "cell_type": "markdown",
      "source": [],
      "metadata": {
        "id": "FwIkhayWCz93"
      }
    },
    {
      "cell_type": "code",
      "source": [
        "# 1)hello world\n",
        "\n",
        "a=\"hello,world!\"\n",
        "print(a)\n"
      ],
      "metadata": {
        "colab": {
          "base_uri": "https://localhost:8080/"
        },
        "id": "ngW5xyYjC0T5",
        "outputId": "e2ae8542-7ce3-40e4-c2fe-8ccf73e47e80"
      },
      "execution_count": 57,
      "outputs": [
        {
          "output_type": "stream",
          "name": "stdout",
          "text": [
            "hello,world!\n"
          ]
        }
      ]
    },
    {
      "cell_type": "markdown",
      "source": [],
      "metadata": {
        "id": "Tvbfc74xC0pf"
      }
    },
    {
      "cell_type": "code",
      "source": [
        "# 2) print name and age !\n",
        "\n",
        "print(\"enter your name:\")\n",
        "x=input()\n",
        "print (\"how old are you?\")\n",
        "y=input()\n",
        "print(\"hey \"+x,\"you are -\"+y,\"years old !\")"
      ],
      "metadata": {
        "colab": {
          "base_uri": "https://localhost:8080/"
        },
        "id": "EfYbLFrlEc7-",
        "outputId": "993d2002-2760-476b-d3e7-1813a1356061"
      },
      "execution_count": 61,
      "outputs": [
        {
          "output_type": "stream",
          "name": "stdout",
          "text": [
            "enter your name\n",
            "anudeep\n",
            "how old are you?\n",
            "30.\n",
            "hey anudeep you are -30. years old !\n"
          ]
        }
      ]
    },
    {
      "cell_type": "code",
      "source": [
        "# 3) predefined keywords in python\n",
        "\n",
        "import keyword        # importing keywords from library\n",
        "a=keyword.kwlist\n",
        "print(\"the predefined keywords are : \",a)\n",
        "\n",
        "\n",
        "\n"
      ],
      "metadata": {
        "colab": {
          "base_uri": "https://localhost:8080/"
        },
        "id": "K8yem9hCGeDc",
        "outputId": "cc5526a4-bcb4-4a00-80c6-d70725e4b5f6"
      },
      "execution_count": 80,
      "outputs": [
        {
          "output_type": "stream",
          "name": "stdout",
          "text": [
            "the predefined keywords are :  ['False', 'None', 'True', 'and', 'as', 'assert', 'async', 'await', 'break', 'class', 'continue', 'def', 'del', 'elif', 'else', 'except', 'finally', 'for', 'from', 'global', 'if', 'import', 'in', 'is', 'lambda', 'nonlocal', 'not', 'or', 'pass', 'raise', 'return', 'try', 'while', 'with', 'yield']\n"
          ]
        }
      ]
    },
    {
      "cell_type": "code",
      "source": [
        "# 4)check the input words are python keywords\n",
        "\n",
        "import keyword\n",
        "x=keyword.kwlist     # passing all the keywords into x\n",
        "\n",
        "print(\"enter your word to check for python keywords\")\n",
        "a=input()\n",
        "if a in x:           # checking condition for  input in keywords\n",
        "  print(\"you r right ! u entered  '\"+a,\"' ,which is a python keyword!\")\n",
        "else:\n",
        "  print(\"hey'amigoo' u enterd a wrong button,pls try again ...\")\n",
        ""
      ],
      "metadata": {
        "colab": {
          "base_uri": "https://localhost:8080/"
        },
        "id": "cwGp-nbGINP6",
        "outputId": "a20e6f93-29ac-4044-dbbb-cfeed05efe1f"
      },
      "execution_count": 79,
      "outputs": [
        {
          "output_type": "stream",
          "name": "stdout",
          "text": [
            "enter your word to check for python keywords\n",
            "global\n",
            "you r right ! u entered  'global ' ,which is a python keyword!\n"
          ]
        }
      ]
    },
    {
      "cell_type": "code",
      "source": [
        " # 5) creating list and tuple\n",
        " a=['a',2,3,4,5,6]\n",
        " b=(8,3,4,\"a\")\n",
        " print(type(a))  #type printing\n",
        " print(type(b))\n",
        "\n",
        " '''\n",
        " list - changing elements of list\n",
        " tuple- changing elements of tuple\n",
        " '''\n",
        " # modifying list\n",
        " a.append(10)   # adding a nmber\n",
        " a[-3]='five'   # inter changing nmber with index\n",
        " a.remove(2)    # removing from list\n",
        "\n",
        " print(\"modified list\",a)\n",
        "\n",
        " 1#modifying tuple -will throw error\n",
        " b.append(15) #trying to add nmber\n",
        " b[-2]=44 #interchanging number\n",
        " print(\"modified tuple\",b)\n"
      ],
      "metadata": {
        "colab": {
          "base_uri": "https://localhost:8080/",
          "height": 263
        },
        "id": "3jeA4qjYKc6d",
        "outputId": "ae8cc76a-ea80-4303-e060-4a97f7267d58"
      },
      "execution_count": 91,
      "outputs": [
        {
          "output_type": "stream",
          "name": "stdout",
          "text": [
            "<class 'list'>\n",
            "<class 'tuple'>\n",
            "modified list ['a', 3, 4, 'five', 6, 10]\n"
          ]
        },
        {
          "output_type": "error",
          "ename": "AttributeError",
          "evalue": "'tuple' object has no attribute 'append'",
          "traceback": [
            "\u001b[0;31m---------------------------------------------------------------------------\u001b[0m",
            "\u001b[0;31mAttributeError\u001b[0m                            Traceback (most recent call last)",
            "\u001b[0;32m<ipython-input-91-7e9b99f56334>\u001b[0m in \u001b[0;36m<cell line: 19>\u001b[0;34m()\u001b[0m\n\u001b[1;32m     17\u001b[0m \u001b[0;34m\u001b[0m\u001b[0m\n\u001b[1;32m     18\u001b[0m \u001b[0;36m1\u001b[0m\u001b[0;31m#modifying tuple -will throw error\u001b[0m\u001b[0;34m\u001b[0m\u001b[0;34m\u001b[0m\u001b[0m\n\u001b[0;32m---> 19\u001b[0;31m \u001b[0mb\u001b[0m\u001b[0;34m.\u001b[0m\u001b[0mappend\u001b[0m\u001b[0;34m(\u001b[0m\u001b[0;36m15\u001b[0m\u001b[0;34m)\u001b[0m \u001b[0;31m#trying to add nmber\u001b[0m\u001b[0;34m\u001b[0m\u001b[0;34m\u001b[0m\u001b[0m\n\u001b[0m\u001b[1;32m     20\u001b[0m \u001b[0mb\u001b[0m\u001b[0;34m[\u001b[0m\u001b[0;34m-\u001b[0m\u001b[0;36m2\u001b[0m\u001b[0;34m]\u001b[0m\u001b[0;34m=\u001b[0m\u001b[0;36m44\u001b[0m \u001b[0;31m#interchanging number\u001b[0m\u001b[0;34m\u001b[0m\u001b[0;34m\u001b[0m\u001b[0m\n\u001b[1;32m     21\u001b[0m \u001b[0mprint\u001b[0m\u001b[0;34m(\u001b[0m\u001b[0;34m\"modified tuple\"\u001b[0m\u001b[0;34m,\u001b[0m\u001b[0mb\u001b[0m\u001b[0;34m)\u001b[0m\u001b[0;34m\u001b[0m\u001b[0;34m\u001b[0m\u001b[0m\n",
            "\u001b[0;31mAttributeError\u001b[0m: 'tuple' object has no attribute 'append'"
          ]
        }
      ]
    },
    {
      "cell_type": "code",
      "source": [],
      "metadata": {
        "id": "IGEjimoeNRwI"
      },
      "execution_count": null,
      "outputs": []
    }
  ]
}